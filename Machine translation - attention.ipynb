{
 "cells": [
  {
   "cell_type": "code",
   "execution_count": 1,
   "id": "6cd8d924-8aac-4c60-8b35-94e9c704da6c",
   "metadata": {},
   "outputs": [],
   "source": [
    "#Importing the libraries\n",
    "import numpy as np\n",
    "import pandas as pd\n",
    "import tensorflow as tf"
   ]
  },
  {
   "cell_type": "code",
   "execution_count": 2,
   "id": "2154344a-542d-443a-876b-29300dfc44b6",
   "metadata": {},
   "outputs": [],
   "source": [
    "#Loading the dataset\n",
    "data_path = \"C:/Users/Mrinal Kalita/Python Projects/MAchine Translation/fra.txt\""
   ]
  },
  {
   "cell_type": "code",
   "execution_count": 3,
   "id": "e08bad8d-f0a7-4499-a4cf-6f914509cec9",
   "metadata": {},
   "outputs": [],
   "source": [
    "#Vectorizing the data and storing them into a list\n",
    "input_texts = []\n",
    "target_texts = []\n",
    "\n",
    "#Creating vocabulary of unique characters\n",
    "input_characters = set()\n",
    "target_characters = set()\n",
    "\n",
    "with open(data_path, 'r', encoding=\"utf-8\") as f:\n",
    "    lines = f.read().split('\\n')\n",
    "\n",
    "for line in lines[:50000]: #TAking only the 50000 samples\n",
    "\n",
    "    input_text,target_text,_= line.split(\"\\t\")\n",
    "    target_text = \"\\t\" + target_text + \"\\n\" \n",
    "    # We use \"tab\" as the \"start sequence\" character for the targets, and \"\\n\" as \"end sequence\" character.\n",
    "    input_texts.append(input_text)\n",
    "    target_texts.append(target_text)\n",
    "\n",
    "    for char in input_text:\n",
    "        if char not in input_characters:\n",
    "            input_characters.add(char)\n",
    "    for char in target_text:\n",
    "        if char not in target_characters:\n",
    "            target_characters.add(char)"
   ]
  },
  {
   "cell_type": "code",
   "execution_count": 4,
   "id": "4be12e5a-c873-4821-b47b-d3cec4a3c552",
   "metadata": {},
   "outputs": [
    {
     "name": "stdout",
     "output_type": "stream",
     "text": [
      "Total number of samples: 50000\n",
      "Number of unique input tokens: 78\n",
      "Number of unique target tokens: 103\n",
      "Max sequence length for inputs: 21\n",
      "Max sequence length for target: 67\n"
     ]
    }
   ],
   "source": [
    "input_characters = sorted(list(input_characters))\n",
    "target_characters = sorted(list(target_characters))\n",
    "max_sequence_length_input = max(len(txt) for txt in input_texts)\n",
    "max_sequence_length_target = max(len(txt) for txt in target_texts)\n",
    "\n",
    "print('Total number of samples:', len(input_texts))\n",
    "print('Number of unique input tokens:', len(input_characters))\n",
    "print('Number of unique target tokens:', len(target_characters))\n",
    "print('Max sequence length for inputs:', max_sequence_length_input)\n",
    "print('Max sequence length for target:', max_sequence_length_target)"
   ]
  },
  {
   "cell_type": "markdown",
   "id": "7ac1527d-1bb2-4f73-abd0-4c9ad6fc9a1d",
   "metadata": {},
   "source": [
    "### Tokenizing and Vectorizing the texts"
   ]
  },
  {
   "cell_type": "code",
   "execution_count": 5,
   "id": "ad32ddfd-eff8-4bb4-81ad-ab173256642f",
   "metadata": {},
   "outputs": [],
   "source": [
    "input_token_index = dict([(char,i) for i, char in enumerate(input_characters)])\n",
    "target_token_index = dict([(char,i) for i, char in enumerate(target_characters)])"
   ]
  },
  {
   "cell_type": "code",
   "execution_count": 6,
   "id": "b43c8794-0109-49a9-a0cb-101eaccf0117",
   "metadata": {},
   "outputs": [],
   "source": [
    "# Creating array of zeros with mentioned shape\n",
    "encoder_input_data = np.zeros((len(input_texts), max_sequence_length_input, len(input_characters)),dtype='float32')\n",
    "decoder_input_data = np.zeros((len(input_texts), max_sequence_length_target, len(target_characters)),dtype='float32')\n",
    "decoder_target_data = np.zeros((len(input_texts), max_sequence_length_target, len(target_characters)),dtype='float32')"
   ]
  },
  {
   "cell_type": "code",
   "execution_count": 7,
   "id": "7d6ebe17-831b-40e4-9a44-18ac96eb746f",
   "metadata": {},
   "outputs": [],
   "source": [
    "#Populating the araray\n",
    "for i, (input_text,target_text) in enumerate(zip(input_texts,target_texts)):\n",
    "    for t, char in enumerate(input_text):\n",
    "        encoder_input_data[i,t,input_token_index[char]] =1.0\n",
    "    encoder_input_data[i, t + 1 :, input_token_index[\" \"]] = 1.0 \n",
    "    for t, char in enumerate(target_text):\n",
    "        decoder_input_data[i,t,target_token_index[char]] = 1.0\n",
    "        if t > 0:\n",
    "            decoder_target_data[i,t-1,target_token_index[char]] =1.0\n",
    "    decoder_input_data[i, t + 1 :, target_token_index[\" \"]] = 1.0\n",
    "    decoder_target_data[i, t:, target_token_index[\" \"]] = 1.0"
   ]
  },
  {
   "cell_type": "markdown",
   "id": "529dc179-83e9-48f1-8788-af7be6bf7bab",
   "metadata": {},
   "source": [
    "### Building the model (Using Encoder and Decoder Architecture)"
   ]
  },
  {
   "cell_type": "code",
   "execution_count": 8,
   "id": "f7f54f0e-4469-4acf-b3dd-f65b06099241",
   "metadata": {},
   "outputs": [],
   "source": [
    "from attention import AttentionLayer\n",
    "from tensorflow.keras.layers import Concatenate"
   ]
  },
  {
   "cell_type": "code",
   "execution_count": 9,
   "id": "791e2802-3565-45ba-9f19-9bc936fd139d",
   "metadata": {},
   "outputs": [],
   "source": [
    "#Defining the encoder\n",
    "import tensorflow as tf\n",
    "encoder_input = tf.keras.Input(shape=(None, len(input_characters)))\n",
    "encoder = tf.keras.layers.LSTM(256,return_sequences=True, return_state=True)\n",
    "encoder_outputs, state_h, state_c = encoder(encoder_input)\n",
    "\n",
    "encoder_state = [state_h, state_c]\n",
    "\n",
    "#defining the decoder\n",
    "decoder_input = tf.keras.Input(shape=(None, len(target_characters)))\n",
    "decoder = tf.keras.layers.LSTM(256, return_sequences=True, return_state=True)\n",
    "decoder_output, _,_ = decoder(decoder_input,initial_state=encoder_state)\n",
    "\n",
    "#Attention Layer\n",
    "attn_layer = AttentionLayer(name='attention_layer') \n",
    "attn_out, attn_states = attn_layer([encoder_outputs, decoder_output])\n",
    "decoder_concat_input = Concatenate(axis=-1, name='concat_layer')([decoder_output, attn_out])\n",
    "\n",
    "decoder_dense = tf.keras.layers.Dense(len(target_characters),activation ='softmax')\n",
    "decoder_output = decoder_dense(decoder_concat_input)\n",
    "\n",
    "model = tf.keras.Model([encoder_input, decoder_input],decoder_output)"
   ]
  },
  {
   "cell_type": "code",
   "execution_count": 10,
   "id": "c1ec594e-cd03-4424-a984-40a54f070bfe",
   "metadata": {},
   "outputs": [
    {
     "name": "stdout",
     "output_type": "stream",
     "text": [
      "Model: \"functional_1\"\n",
      "__________________________________________________________________________________________________\n",
      "Layer (type)                    Output Shape         Param #     Connected to                     \n",
      "==================================================================================================\n",
      "input_1 (InputLayer)            [(None, None, 78)]   0                                            \n",
      "__________________________________________________________________________________________________\n",
      "input_2 (InputLayer)            [(None, None, 103)]  0                                            \n",
      "__________________________________________________________________________________________________\n",
      "lstm (LSTM)                     [(None, None, 256),  343040      input_1[0][0]                    \n",
      "__________________________________________________________________________________________________\n",
      "lstm_1 (LSTM)                   [(None, None, 256),  368640      input_2[0][0]                    \n",
      "                                                                 lstm[0][1]                       \n",
      "                                                                 lstm[0][2]                       \n",
      "__________________________________________________________________________________________________\n",
      "attention_layer (AttentionLayer ((None, None, 256),  131328      lstm[0][0]                       \n",
      "                                                                 lstm_1[0][0]                     \n",
      "__________________________________________________________________________________________________\n",
      "concat_layer (Concatenate)      (None, None, 512)    0           lstm_1[0][0]                     \n",
      "                                                                 attention_layer[0][0]            \n",
      "__________________________________________________________________________________________________\n",
      "dense (Dense)                   (None, None, 103)    52839       concat_layer[0][0]               \n",
      "==================================================================================================\n",
      "Total params: 895,847\n",
      "Trainable params: 895,847\n",
      "Non-trainable params: 0\n",
      "__________________________________________________________________________________________________\n"
     ]
    }
   ],
   "source": [
    "model.summary()"
   ]
  },
  {
   "cell_type": "markdown",
   "id": "fa648008-18b0-4837-bffe-1876eeab78b3",
   "metadata": {},
   "source": [
    "### Training the model"
   ]
  },
  {
   "cell_type": "code",
   "execution_count": 11,
   "id": "4c6570a7-ce2b-4147-a243-69148454d1f2",
   "metadata": {},
   "outputs": [],
   "source": [
    "#defining the model checkpoint\n",
    "from tensorflow.keras.callbacks import ModelCheckpoint, EarlyStopping, ReduceLROnPlateau\n",
    "checkpoint = ModelCheckpoint(\"model-{val_loss:.2f}.h5\", monitor=\"val_loss\", verbose=1,mode='min', save_best_only=True, save_weights_only=True)\n",
    "stop = EarlyStopping(monitor=\"val_loss\", patience=15, mode='min')\n",
    "reduce_lr = ReduceLROnPlateau(monitor=\"val_loss\", factor=0.125, patience=6, min_lr=1e-6, verbose=1, mode='min')"
   ]
  },
  {
   "cell_type": "code",
   "execution_count": 12,
   "id": "2f32d139-df31-4427-9408-e9963f50322b",
   "metadata": {},
   "outputs": [
    {
     "name": "stdout",
     "output_type": "stream",
     "text": [
      "Epoch 1/50\n",
      "1250/1250 [==============================] - ETA: 0s - loss: 0.7774 - accuracy: 0.7873\n",
      "Epoch 00001: val_loss improved from inf to 0.71267, saving model to model-0.71.h5\n",
      "1250/1250 [==============================] - 235s 188ms/step - loss: 0.7774 - accuracy: 0.7873 - val_loss: 0.7127 - val_accuracy: 0.7912\n",
      "Epoch 2/50\n",
      "1250/1250 [==============================] - ETA: 0s - loss: 0.5205 - accuracy: 0.8457\n",
      "Epoch 00002: val_loss improved from 0.71267 to 0.60015, saving model to model-0.60.h5\n",
      "1250/1250 [==============================] - 252s 202ms/step - loss: 0.5205 - accuracy: 0.8457 - val_loss: 0.6002 - val_accuracy: 0.8192\n",
      "Epoch 3/50\n",
      "1250/1250 [==============================] - ETA: 0s - loss: 0.4416 - accuracy: 0.8677\n",
      "Epoch 00003: val_loss improved from 0.60015 to 0.52737, saving model to model-0.53.h5\n",
      "1250/1250 [==============================] - 269s 215ms/step - loss: 0.4416 - accuracy: 0.8677 - val_loss: 0.5274 - val_accuracy: 0.8419\n",
      "Epoch 4/50\n",
      "1250/1250 [==============================] - ETA: 0s - loss: 0.3866 - accuracy: 0.8841\n",
      "Epoch 00004: val_loss improved from 0.52737 to 0.47290, saving model to model-0.47.h5\n",
      "1250/1250 [==============================] - 277s 222ms/step - loss: 0.3866 - accuracy: 0.8841 - val_loss: 0.4729 - val_accuracy: 0.8591\n",
      "Epoch 5/50\n",
      "1250/1250 [==============================] - ETA: 0s - loss: 0.3456 - accuracy: 0.8959\n",
      "Epoch 00005: val_loss improved from 0.47290 to 0.43389, saving model to model-0.43.h5\n",
      "1250/1250 [==============================] - 278s 222ms/step - loss: 0.3456 - accuracy: 0.8959 - val_loss: 0.4339 - val_accuracy: 0.8702\n",
      "Epoch 6/50\n",
      "1250/1250 [==============================] - ETA: 0s - loss: 0.3131 - accuracy: 0.9054\n",
      "Epoch 00006: val_loss improved from 0.43389 to 0.40892, saving model to model-0.41.h5\n",
      "1250/1250 [==============================] - 266s 213ms/step - loss: 0.3131 - accuracy: 0.9054 - val_loss: 0.4089 - val_accuracy: 0.8776\n",
      "Epoch 7/50\n",
      "1250/1250 [==============================] - ETA: 0s - loss: 0.2872 - accuracy: 0.9129\n",
      "Epoch 00007: val_loss improved from 0.40892 to 0.38885, saving model to model-0.39.h5\n",
      "1250/1250 [==============================] - 247s 198ms/step - loss: 0.2872 - accuracy: 0.9129 - val_loss: 0.3888 - val_accuracy: 0.8833\n",
      "Epoch 8/50\n",
      "1250/1250 [==============================] - ETA: 0s - loss: 0.2662 - accuracy: 0.9189\n",
      "Epoch 00008: val_loss improved from 0.38885 to 0.37692, saving model to model-0.38.h5\n",
      "1250/1250 [==============================] - 273s 219ms/step - loss: 0.2662 - accuracy: 0.9189 - val_loss: 0.3769 - val_accuracy: 0.8878\n",
      "Epoch 9/50\n",
      "1250/1250 [==============================] - ETA: 0s - loss: 0.2484 - accuracy: 0.9239\n",
      "Epoch 00009: val_loss improved from 0.37692 to 0.36627, saving model to model-0.37.h5\n",
      "1250/1250 [==============================] - 271s 217ms/step - loss: 0.2484 - accuracy: 0.9239 - val_loss: 0.3663 - val_accuracy: 0.8909\n",
      "Epoch 10/50\n",
      "1250/1250 [==============================] - ETA: 0s - loss: 0.2332 - accuracy: 0.9283\n",
      "Epoch 00010: val_loss improved from 0.36627 to 0.35870, saving model to model-0.36.h5\n",
      "1250/1250 [==============================] - 275s 220ms/step - loss: 0.2332 - accuracy: 0.9283 - val_loss: 0.3587 - val_accuracy: 0.8939\n",
      "Epoch 11/50\n",
      "1250/1250 [==============================] - ETA: 0s - loss: 0.2197 - accuracy: 0.9321\n",
      "Epoch 00011: val_loss improved from 0.35870 to 0.35584, saving model to model-0.36.h5\n",
      "1250/1250 [==============================] - 268s 214ms/step - loss: 0.2197 - accuracy: 0.9321 - val_loss: 0.3558 - val_accuracy: 0.8953\n",
      "Epoch 12/50\n",
      "1250/1250 [==============================] - ETA: 0s - loss: 0.2079 - accuracy: 0.9355\n",
      "Epoch 00012: val_loss improved from 0.35584 to 0.35100, saving model to model-0.35.h5\n",
      "1250/1250 [==============================] - 266s 213ms/step - loss: 0.2079 - accuracy: 0.9355 - val_loss: 0.3510 - val_accuracy: 0.8974\n",
      "Epoch 13/50\n",
      "1250/1250 [==============================] - ETA: 0s - loss: 0.1971 - accuracy: 0.9387\n",
      "Epoch 00013: val_loss did not improve from 0.35100\n",
      "1250/1250 [==============================] - 265s 212ms/step - loss: 0.1971 - accuracy: 0.9387 - val_loss: 0.3510 - val_accuracy: 0.8975\n",
      "Epoch 14/50\n",
      "1250/1250 [==============================] - ETA: 0s - loss: 0.1871 - accuracy: 0.9416\n",
      "Epoch 00014: val_loss improved from 0.35100 to 0.34917, saving model to model-0.35.h5\n",
      "1250/1250 [==============================] - 255s 204ms/step - loss: 0.1871 - accuracy: 0.9416 - val_loss: 0.3492 - val_accuracy: 0.8989\n",
      "Epoch 15/50\n",
      "1250/1250 [==============================] - ETA: 0s - loss: 0.1780 - accuracy: 0.9443\n",
      "Epoch 00015: val_loss did not improve from 0.34917\n",
      "1250/1250 [==============================] - 247s 198ms/step - loss: 0.1780 - accuracy: 0.9443 - val_loss: 0.3521 - val_accuracy: 0.8993\n",
      "Epoch 16/50\n",
      "1250/1250 [==============================] - ETA: 0s - loss: 0.1697 - accuracy: 0.9468\n",
      "Epoch 00016: val_loss did not improve from 0.34917\n",
      "1250/1250 [==============================] - 238s 191ms/step - loss: 0.1697 - accuracy: 0.9468 - val_loss: 0.3530 - val_accuracy: 0.9000\n",
      "Epoch 17/50\n",
      "1250/1250 [==============================] - ETA: 0s - loss: 0.1619 - accuracy: 0.9490\n",
      "Epoch 00017: val_loss did not improve from 0.34917\n",
      "1250/1250 [==============================] - 232s 185ms/step - loss: 0.1619 - accuracy: 0.9490 - val_loss: 0.3564 - val_accuracy: 0.8999\n",
      "Epoch 18/50\n",
      "1250/1250 [==============================] - ETA: 0s - loss: 0.1546 - accuracy: 0.9512\n",
      "Epoch 00018: val_loss did not improve from 0.34917\n",
      "1250/1250 [==============================] - 240s 192ms/step - loss: 0.1546 - accuracy: 0.9512 - val_loss: 0.3596 - val_accuracy: 0.9005\n",
      "Epoch 19/50\n",
      "1250/1250 [==============================] - ETA: 0s - loss: 0.1479 - accuracy: 0.9532\n",
      "Epoch 00019: val_loss did not improve from 0.34917\n",
      "1250/1250 [==============================] - 259s 207ms/step - loss: 0.1479 - accuracy: 0.9532 - val_loss: 0.3639 - val_accuracy: 0.9002\n",
      "Epoch 20/50\n",
      "1250/1250 [==============================] - ETA: 0s - loss: 0.1416 - accuracy: 0.9550\n",
      "Epoch 00020: val_loss did not improve from 0.34917\n",
      "\n",
      "Epoch 00020: ReduceLROnPlateau reducing learning rate to 0.0001250000059371814.\n",
      "1250/1250 [==============================] - 237s 189ms/step - loss: 0.1416 - accuracy: 0.9550 - val_loss: 0.3674 - val_accuracy: 0.9006\n",
      "Epoch 21/50\n",
      "1250/1250 [==============================] - ETA: 0s - loss: 0.1145 - accuracy: 0.9644\n",
      "Epoch 00021: val_loss did not improve from 0.34917\n",
      "1250/1250 [==============================] - 243s 194ms/step - loss: 0.1145 - accuracy: 0.9644 - val_loss: 0.3643 - val_accuracy: 0.9035\n",
      "Epoch 22/50\n",
      "1250/1250 [==============================] - ETA: 0s - loss: 0.1071 - accuracy: 0.9671\n",
      "Epoch 00022: val_loss did not improve from 0.34917\n",
      "1250/1250 [==============================] - 243s 195ms/step - loss: 0.1071 - accuracy: 0.9671 - val_loss: 0.3710 - val_accuracy: 0.9031\n",
      "Epoch 23/50\n",
      "1250/1250 [==============================] - ETA: 0s - loss: 0.1037 - accuracy: 0.9681\n",
      "Epoch 00023: val_loss did not improve from 0.34917\n",
      "1250/1250 [==============================] - 242s 194ms/step - loss: 0.1037 - accuracy: 0.9681 - val_loss: 0.3762 - val_accuracy: 0.9029\n",
      "Epoch 24/50\n",
      "1250/1250 [==============================] - ETA: 0s - loss: 0.1010 - accuracy: 0.9690\n",
      "Epoch 00024: val_loss did not improve from 0.34917\n",
      "1250/1250 [==============================] - 242s 194ms/step - loss: 0.1010 - accuracy: 0.9690 - val_loss: 0.3812 - val_accuracy: 0.9025\n",
      "Epoch 25/50\n",
      "1250/1250 [==============================] - ETA: 0s - loss: 0.0987 - accuracy: 0.9697\n",
      "Epoch 00025: val_loss did not improve from 0.34917\n",
      "1250/1250 [==============================] - 254s 203ms/step - loss: 0.0987 - accuracy: 0.9697 - val_loss: 0.3864 - val_accuracy: 0.9023\n",
      "Epoch 26/50\n",
      "1250/1250 [==============================] - ETA: 0s - loss: 0.0966 - accuracy: 0.9703\n",
      "Epoch 00026: val_loss did not improve from 0.34917\n",
      "\n",
      "Epoch 00026: ReduceLROnPlateau reducing learning rate to 1.5625000742147677e-05.\n",
      "1250/1250 [==============================] - 234s 187ms/step - loss: 0.0966 - accuracy: 0.9703 - val_loss: 0.3911 - val_accuracy: 0.9016\n",
      "Epoch 27/50\n",
      "1250/1250 [==============================] - ETA: 0s - loss: 0.0914 - accuracy: 0.9725\n",
      "Epoch 00027: val_loss did not improve from 0.34917\n",
      "1250/1250 [==============================] - 228s 182ms/step - loss: 0.0914 - accuracy: 0.9725 - val_loss: 0.3925 - val_accuracy: 0.9016\n",
      "Epoch 28/50\n",
      "1250/1250 [==============================] - ETA: 0s - loss: 0.0907 - accuracy: 0.9727\n",
      "Epoch 00028: val_loss did not improve from 0.34917\n",
      "1250/1250 [==============================] - 234s 187ms/step - loss: 0.0907 - accuracy: 0.9727 - val_loss: 0.3938 - val_accuracy: 0.9016\n",
      "Epoch 29/50\n",
      "1250/1250 [==============================] - ETA: 0s - loss: 0.0903 - accuracy: 0.9729\n",
      "Epoch 00029: val_loss did not improve from 0.34917\n",
      "1250/1250 [==============================] - 247s 197ms/step - loss: 0.0903 - accuracy: 0.9729 - val_loss: 0.3949 - val_accuracy: 0.9014\n"
     ]
    }
   ],
   "source": [
    "# Run training\n",
    "model.compile(optimizer='adam', loss='categorical_crossentropy', metrics = [\"accuracy\"])\n",
    "history = model.fit([encoder_input_data, decoder_input_data], decoder_target_data,\n",
    "          batch_size=32,\n",
    "          epochs=50,\n",
    "          validation_split=0.2,callbacks=[checkpoint,stop,reduce_lr])"
   ]
  },
  {
   "cell_type": "code",
   "execution_count": 13,
   "id": "2e17116f-e9b0-4a6e-bccd-99d5bfe7f272",
   "metadata": {},
   "outputs": [],
   "source": [
    "#Saving the mmodel\n",
    "model.save('model.h5')"
   ]
  },
  {
   "cell_type": "code",
   "execution_count": 14,
   "id": "3a09ca7c-e4b4-42d9-9a08-d4e36192ea6e",
   "metadata": {},
   "outputs": [
    {
     "name": "stdout",
     "output_type": "stream",
     "text": [
      "Saved model to disk\n"
     ]
    }
   ],
   "source": [
    "model_json = model.to_json()\n",
    "with open(\"NMT_model.json\", \"w\") as json_file:\n",
    "    json_file.write(model_json)\n",
    "# serialize weights to HDF5\n",
    "model.save_weights(\"NMT_model_weight.h5\")\n",
    "print(\"Saved model to disk\")"
   ]
  },
  {
   "cell_type": "code",
   "execution_count": 15,
   "id": "0553a9e7-ac90-4672-99cc-a26af4a83e78",
   "metadata": {},
   "outputs": [],
   "source": [
    "# loading the model architecture and asigning the weights\n",
    "json_file = open('NMT_model.json', 'r')\n",
    "loaded_model_json = json_file.read()\n",
    "json_file.close()\n",
    "model_loaded = tf.keras.models.model_from_json(loaded_model_json, custom_objects={'AttentionLayer': AttentionLayer})\n",
    "# load weights into new model\n",
    "model_loaded.load_weights(\"NMT_model_weight.h5\")"
   ]
  },
  {
   "cell_type": "markdown",
   "id": "1651b1f9-8b39-4b44-a602-05f7cd699191",
   "metadata": {},
   "source": [
    "### Inferece Stage"
   ]
  },
  {
   "cell_type": "code",
   "execution_count": 16,
   "id": "7580a793-387c-4fba-b26a-eccd883f7088",
   "metadata": {},
   "outputs": [
    {
     "data": {
      "text/plain": [
       "[<tensorflow.python.keras.engine.input_layer.InputLayer at 0x1eeff7c5d00>,\n",
       " <tensorflow.python.keras.engine.input_layer.InputLayer at 0x1eea4885880>,\n",
       " <tensorflow.python.keras.layers.recurrent_v2.LSTM at 0x1eeff7c5ee0>,\n",
       " <tensorflow.python.keras.layers.recurrent_v2.LSTM at 0x1eea4885f70>,\n",
       " <attention.AttentionLayer at 0x1eea4694580>,\n",
       " <tensorflow.python.keras.layers.merge.Concatenate at 0x1eea48b3550>,\n",
       " <tensorflow.python.keras.layers.core.Dense at 0x1eea4694730>]"
      ]
     },
     "execution_count": 16,
     "metadata": {},
     "output_type": "execute_result"
    }
   ],
   "source": [
    "model.layers"
   ]
  },
  {
   "cell_type": "code",
   "execution_count": 17,
   "id": "296d445d-8b75-4427-943f-d294206be257",
   "metadata": {},
   "outputs": [],
   "source": [
    "# Manually deriving the decoder states and decoder outputs so that we can reuse decoder outputs as inputs for next step\n",
    "encoder_input = model_loaded.input[0]  #loading encoder_inputs\n",
    "encoder_output, state_h, state_c = model_loaded.layers[2].output\n",
    "encoder_model = tf.keras.Model(encoder_input, [encoder_output, state_h, state_c])\n",
    "#print(ecoder_output.shape)\n",
    "decoder_state_input_h = tf.keras.Input(shape=(256,))\n",
    "decoder_state_input_c = tf.keras.Input(shape=(256,))\n",
    "decoder_hidden_state_input = tf.keras.Input(shape=(max_sequence_length_input,256))\n",
    "\n",
    "decoder_input = model_loaded.layers[1].output\n",
    "decoder = model_loaded.layers[3]\n",
    "decoder_output, state_h, state_c = decoder(decoder_input, initial_state=[decoder_state_input_h, decoder_state_input_c])\n",
    "\n",
    "attn_layer = model_loaded.layers[4]\n",
    "attn_out_inf, attn_states_inf = attn_layer([decoder_hidden_state_input, decoder_output])\n",
    "\n",
    "concate = model_loaded.layers[5]\n",
    "decoder_inf_concat = concate([decoder_output, attn_out_inf])\n",
    "\n",
    "decoder_dense = model_loaded.layers[6]\n",
    "decoder_state = [state_h, state_c]\n",
    "decoder_output = decoder_dense(decoder_inf_concat)\n",
    "\n",
    "decoder_model = tf.keras.Model([decoder_input]+[decoder_hidden_state_input,decoder_state_input_h, decoder_state_input_c],[decoder_output] + decoder_state)"
   ]
  },
  {
   "cell_type": "code",
   "execution_count": 18,
   "id": "227ebd57-62fd-4571-872d-d0b71f684d03",
   "metadata": {},
   "outputs": [],
   "source": [
    "# Mapping between integers or indexes and characters.\n",
    "reverse_input_char_index = dict((i, char) for char, i in input_token_index.items())\n",
    "reverse_target_char_index = dict((i, char) for char, i in target_token_index.items())"
   ]
  },
  {
   "cell_type": "code",
   "execution_count": 19,
   "id": "1e61c661-def9-4591-b8c3-0cff71888951",
   "metadata": {},
   "outputs": [],
   "source": [
    "#decoding the output sentence from tokenized data\n",
    "def decode_sequence(input_seq):\n",
    "    e_out, e_h, e_c = encoder_model.predict(input_seq)\n",
    "\n",
    "    #generating empty target sequence of length 1\n",
    "    target_seq = np.zeros((1,1,len(target_characters)))\n",
    "    #Adding the start character in the target sequence\n",
    "    target_seq[0,0,target_token_index[\"\\t\"]] =1.0\n",
    "\n",
    "    stop_con = False\n",
    "    decoded_sentence = \"\"\n",
    "\n",
    "    while not stop_con:\n",
    "        decoder_output, state_h, state_c = decoder_model.predict([target_seq] + [e_out, e_h, e_c])\n",
    "        # Sample a token\n",
    "        sampled_token_index = np.argmax(decoder_output[0,-1,:])\n",
    "        sample_char = reverse_target_char_index[sampled_token_index]\n",
    "        decoded_sentence += sample_char\n",
    "\n",
    "    \n",
    "        # Exit condition: either hit max length\n",
    "        # or find stop character.\n",
    "        if sample_char == \"\\n\" or len(decoded_sentence) > max_sequence_length_target:\n",
    "            stop_con = True\n",
    "    \n",
    "        # Update the target sequence (of length 1).\n",
    "        target_seq = np.zeros((1,1,len(target_characters)))\n",
    "        target_seq[0, 0, sampled_token_index] = 1.0\n",
    "    \n",
    "        # Update states\n",
    "        e_h, e_c = state_h, state_c\n",
    "\n",
    "    return decoded_sentence"
   ]
  },
  {
   "cell_type": "code",
   "execution_count": 20,
   "id": "85a2d1a4-1a04-49ff-993a-f391f4391290",
   "metadata": {},
   "outputs": [
    {
     "name": "stdout",
     "output_type": "stream",
     "text": [
      "-\n",
      "Input sentence: Go.\n",
      "Decoded sentence: Va !\n",
      "\n",
      "-\n",
      "Input sentence: Go.\n",
      "Decoded sentence: Va !\n",
      "\n",
      "-\n",
      "Input sentence: Go.\n",
      "Decoded sentence: Va !\n",
      "\n",
      "-\n",
      "Input sentence: Go.\n",
      "Decoded sentence: Va !\n",
      "\n",
      "-\n",
      "Input sentence: Hi.\n",
      "Decoded sentence: Salut.\n",
      "\n",
      "-\n",
      "Input sentence: Hi.\n",
      "Decoded sentence: Salut.\n",
      "\n",
      "-\n",
      "Input sentence: Run!\n",
      "Decoded sentence: Fuyez !\n",
      "\n",
      "-\n",
      "Input sentence: Run!\n",
      "Decoded sentence: Fuyez !\n",
      "\n",
      "-\n",
      "Input sentence: Run!\n",
      "Decoded sentence: Fuyez !\n",
      "\n",
      "-\n",
      "Input sentence: Run!\n",
      "Decoded sentence: Fuyez !\n",
      "\n",
      "-\n",
      "Input sentence: Run!\n",
      "Decoded sentence: Fuyez !\n",
      "\n",
      "-\n",
      "Input sentence: Run!\n",
      "Decoded sentence: Fuyez !\n",
      "\n",
      "-\n",
      "Input sentence: Run!\n",
      "Decoded sentence: Fuyez !\n",
      "\n",
      "-\n",
      "Input sentence: Run!\n",
      "Decoded sentence: Fuyez !\n",
      "\n",
      "-\n",
      "Input sentence: Run.\n",
      "Decoded sentence: File !\n",
      "\n",
      "-\n",
      "Input sentence: Run.\n",
      "Decoded sentence: File !\n",
      "\n",
      "-\n",
      "Input sentence: Run.\n",
      "Decoded sentence: File !\n",
      "\n",
      "-\n",
      "Input sentence: Run.\n",
      "Decoded sentence: File !\n",
      "\n",
      "-\n",
      "Input sentence: Run.\n",
      "Decoded sentence: File !\n",
      "\n",
      "-\n",
      "Input sentence: Run.\n",
      "Decoded sentence: File !\n",
      "\n"
     ]
    }
   ],
   "source": [
    "for seq_index in range(20):\n",
    "    # Take one sequence (part of the training set)\n",
    "    # for trying out decoding.\n",
    "    input_seq = encoder_input_data[seq_index : seq_index + 1]\n",
    "    decoded_sentence = decode_sequence(input_seq)\n",
    "    print(\"-\")\n",
    "    print(\"Input sentence:\", input_texts[seq_index])\n",
    "    print(\"Decoded sentence:\", decoded_sentence)"
   ]
  },
  {
   "cell_type": "code",
   "execution_count": 21,
   "id": "1e0887fc-b48d-4117-b3d0-c13ab9499458",
   "metadata": {},
   "outputs": [],
   "source": [
    "text = \"Go.\"\n",
    "input_data = np.zeros((1, max_sequence_length_input, len(input_characters)),dtype='float32')\n",
    "for t , char in enumerate(text):\n",
    "    input_data[0,t, input_token_index[char]] = 1.0\n",
    "input_data[0, t+1:, input_token_index[\" \"]] = 1.0"
   ]
  },
  {
   "cell_type": "code",
   "execution_count": 22,
   "id": "730cd75a-1ee5-4ce9-a74b-8590ebea8203",
   "metadata": {},
   "outputs": [
    {
     "name": "stdout",
     "output_type": "stream",
     "text": [
      "Va !\n",
      "\n"
     ]
    }
   ],
   "source": [
    "print(decode_sequence(input_data[0:1]))"
   ]
  },
  {
   "cell_type": "code",
   "execution_count": 23,
   "id": "5356c6a1-7a29-48d0-9294-4fee29bf7cc1",
   "metadata": {},
   "outputs": [],
   "source": [
    "#prediction for any random text\n",
    "def eng_to_french(text):\n",
    "    input_data = np.zeros((1,max_sequence_length_input, len(input_characters)),dtype='float32')\n",
    "    for t, char in enumerate(text):\n",
    "        input_data[0,t,input_token_index[char]] = 1.0\n",
    "    input_data[0, t+1:, input_token_index[\" \"]] =1.0\n",
    "    return print(decode_sequence(input_data[0:1]))"
   ]
  },
  {
   "cell_type": "code",
   "execution_count": 28,
   "id": "7343b49e-74c7-4efd-8f72-8386edd0cd76",
   "metadata": {},
   "outputs": [
    {
     "name": "stdout",
     "output_type": "stream",
     "text": [
      "Il n'est pas un bas.\n",
      "\n"
     ]
    }
   ],
   "source": [
    "eng_to_french(\"Tea\")"
   ]
  },
  {
   "cell_type": "code",
   "execution_count": null,
   "id": "b0bb7518-bb87-4484-a7da-501a0cff524b",
   "metadata": {},
   "outputs": [],
   "source": []
  }
 ],
 "metadata": {
  "kernelspec": {
   "display_name": "Python 3 (ipykernel)",
   "language": "python",
   "name": "python3"
  },
  "language_info": {
   "codemirror_mode": {
    "name": "ipython",
    "version": 3
   },
   "file_extension": ".py",
   "mimetype": "text/x-python",
   "name": "python",
   "nbconvert_exporter": "python",
   "pygments_lexer": "ipython3",
   "version": "3.8.18"
  }
 },
 "nbformat": 4,
 "nbformat_minor": 5
}
