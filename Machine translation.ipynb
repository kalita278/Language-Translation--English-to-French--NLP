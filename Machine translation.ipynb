{
 "cells": [
  {
   "cell_type": "code",
   "execution_count": 1,
   "id": "6cd8d924-8aac-4c60-8b35-94e9c704da6c",
   "metadata": {},
   "outputs": [],
   "source": [
    "#Importing the libraries\n",
    "import numpy as np\n",
    "import pandas as pd\n",
    "import tensorflow as tf"
   ]
  },
  {
   "cell_type": "code",
   "execution_count": 2,
   "id": "2154344a-542d-443a-876b-29300dfc44b6",
   "metadata": {},
   "outputs": [],
   "source": [
    "#Loading the dataset\n",
    "data_path = \"C:/Users/Mrinal Kalita/Python Projects/MAchine Translation/fra.txt\""
   ]
  },
  {
   "cell_type": "code",
   "execution_count": 3,
   "id": "e08bad8d-f0a7-4499-a4cf-6f914509cec9",
   "metadata": {},
   "outputs": [],
   "source": [
    "#Vectorizing the data and storing them into a list\n",
    "input_texts = []\n",
    "target_texts = []\n",
    "\n",
    "#Creating vocabulary of unique characters\n",
    "input_characters = set()\n",
    "target_characters = set()\n",
    "\n",
    "with open(data_path, 'r', encoding=\"utf-8\") as f:\n",
    "    lines = f.read().split('\\n')\n",
    "\n",
    "for line in lines[:30000]: #TAking only the 50000 samples\n",
    "\n",
    "    input_text,target_text,_= line.split(\"\\t\")\n",
    "    target_text = \"\\t\" + target_text + \"\\n\" \n",
    "    # We use \"tab\" as the \"start sequence\" character for the targets, and \"\\n\" as \"end sequence\" character.\n",
    "    input_texts.append(input_text)\n",
    "    target_texts.append(target_text)\n",
    "\n",
    "    for char in input_text:\n",
    "        if char not in input_characters:\n",
    "            input_characters.add(char)\n",
    "    for char in target_text:\n",
    "        if char not in target_characters:\n",
    "            target_characters.add(char)"
   ]
  },
  {
   "cell_type": "code",
   "execution_count": 4,
   "id": "4be12e5a-c873-4821-b47b-d3cec4a3c552",
   "metadata": {},
   "outputs": [
    {
     "name": "stdout",
     "output_type": "stream",
     "text": [
      "Total number of samples: 30000\n",
      "Number of unique input tokens: 76\n",
      "Number of unique target tokens: 103\n",
      "Max sequence length for inputs: 18\n",
      "Max sequence length for target: 59\n"
     ]
    }
   ],
   "source": [
    "input_characters = sorted(list(input_characters))\n",
    "target_characters = sorted(list(target_characters))\n",
    "max_sequence_length_input = max(len(txt) for txt in input_texts)\n",
    "max_sequence_length_target = max(len(txt) for txt in target_texts)\n",
    "\n",
    "print('Total number of samples:', len(input_texts))\n",
    "print('Number of unique input tokens:', len(input_characters))\n",
    "print('Number of unique target tokens:', len(target_characters))\n",
    "print('Max sequence length for inputs:', max_sequence_length_input)\n",
    "print('Max sequence length for target:', max_sequence_length_target)"
   ]
  },
  {
   "cell_type": "markdown",
   "id": "7ac1527d-1bb2-4f73-abd0-4c9ad6fc9a1d",
   "metadata": {},
   "source": [
    "### Tokenizing and Vectorizing the texts"
   ]
  },
  {
   "cell_type": "code",
   "execution_count": 5,
   "id": "ad32ddfd-eff8-4bb4-81ad-ab173256642f",
   "metadata": {},
   "outputs": [],
   "source": [
    "input_token_index = dict([(char,i) for i, char in enumerate(input_characters)])\n",
    "target_token_index = dict([(char,i) for i, char in enumerate(target_characters)])"
   ]
  },
  {
   "cell_type": "code",
   "execution_count": 6,
   "id": "b43c8794-0109-49a9-a0cb-101eaccf0117",
   "metadata": {},
   "outputs": [],
   "source": [
    "# Creating array of zeros with mentioned shape\n",
    "encoder_input_data = np.zeros((len(input_texts), max_sequence_length_input, len(input_characters)),dtype='float32')\n",
    "decoder_input_data = np.zeros((len(input_texts), max_sequence_length_target, len(target_characters)),dtype='float32')\n",
    "decoder_target_data = np.zeros((len(input_texts), max_sequence_length_target, len(target_characters)),dtype='float32')"
   ]
  },
  {
   "cell_type": "code",
   "execution_count": 7,
   "id": "7d6ebe17-831b-40e4-9a44-18ac96eb746f",
   "metadata": {},
   "outputs": [],
   "source": [
    "#Populating the araray\n",
    "for i, (input_text,target_text) in enumerate(zip(input_texts,target_texts)):\n",
    "    for t, char in enumerate(input_text):\n",
    "        encoder_input_data[i,t,input_token_index[char]] =1.0\n",
    "    encoder_input_data[i, t + 1 :, input_token_index[\" \"]] = 1.0 \n",
    "    for t, char in enumerate(target_text):\n",
    "        decoder_input_data[i,t,target_token_index[char]] = 1.0\n",
    "        if t > 0:\n",
    "            decoder_target_data[i,t-1,target_token_index[char]] =1.0\n",
    "    decoder_input_data[i, t + 1 :, target_token_index[\" \"]] = 1.0\n",
    "    decoder_target_data[i, t:, target_token_index[\" \"]] = 1.0"
   ]
  },
  {
   "cell_type": "markdown",
   "id": "529dc179-83e9-48f1-8788-af7be6bf7bab",
   "metadata": {},
   "source": [
    "### Building the model (Using Encoder and Decoder Architecture)"
   ]
  },
  {
   "cell_type": "code",
   "execution_count": 10,
   "id": "791e2802-3565-45ba-9f19-9bc936fd139d",
   "metadata": {},
   "outputs": [],
   "source": [
    "#Defining the encoder\n",
    "import tensorflow as tf\n",
    "encoder_input = tf.keras.Input(shape=(None, len(input_characters)))\n",
    "encoder = tf.keras.layers.LSTM(256, return_state=True)\n",
    "encoder_outputs, state_h, state_c = encoder(encoder_input)\n",
    "\n",
    "encoder_state = [state_h, state_c]\n",
    "\n",
    "#defining the decoder\n",
    "decoder_input = tf.keras.Input(shape=(None, len(target_characters)))\n",
    "decoder = tf.keras.layers.LSTM(256, return_sequences=True, return_state=True)\n",
    "decoder_output, _,_ = decoder(decoder_input,initial_state=encoder_state)\n",
    "decoder_dense = tf.keras.layers.Dense(len(target_characters),activation ='softmax')\n",
    "decoder_output = decoder_dense(decoder_output)\n",
    "\n",
    "model = tf.keras.Model([encoder_input, decoder_input],decoder_output)"
   ]
  },
  {
   "cell_type": "code",
   "execution_count": 11,
   "id": "c1ec594e-cd03-4424-a984-40a54f070bfe",
   "metadata": {},
   "outputs": [
    {
     "name": "stdout",
     "output_type": "stream",
     "text": [
      "Model: \"functional_1\"\n",
      "__________________________________________________________________________________________________\n",
      "Layer (type)                    Output Shape         Param #     Connected to                     \n",
      "==================================================================================================\n",
      "input_1 (InputLayer)            [(None, None, 76)]   0                                            \n",
      "__________________________________________________________________________________________________\n",
      "input_2 (InputLayer)            [(None, None, 103)]  0                                            \n",
      "__________________________________________________________________________________________________\n",
      "lstm (LSTM)                     [(None, 256), (None, 340992      input_1[0][0]                    \n",
      "__________________________________________________________________________________________________\n",
      "lstm_1 (LSTM)                   [(None, None, 256),  368640      input_2[0][0]                    \n",
      "                                                                 lstm[0][1]                       \n",
      "                                                                 lstm[0][2]                       \n",
      "__________________________________________________________________________________________________\n",
      "dense (Dense)                   (None, None, 103)    26471       lstm_1[0][0]                     \n",
      "==================================================================================================\n",
      "Total params: 736,103\n",
      "Trainable params: 736,103\n",
      "Non-trainable params: 0\n",
      "__________________________________________________________________________________________________\n"
     ]
    }
   ],
   "source": [
    "model.summary()"
   ]
  },
  {
   "cell_type": "markdown",
   "id": "fa648008-18b0-4837-bffe-1876eeab78b3",
   "metadata": {},
   "source": [
    "### Training the model"
   ]
  },
  {
   "cell_type": "code",
   "execution_count": 12,
   "id": "4c6570a7-ce2b-4147-a243-69148454d1f2",
   "metadata": {},
   "outputs": [],
   "source": [
    "#defining the model checkpoint\n",
    "from tensorflow.keras.callbacks import ModelCheckpoint, EarlyStopping, ReduceLROnPlateau\n",
    "checkpoint = ModelCheckpoint(\"model-{val_loss:.2f}.h5\", monitor=\"val_loss\", verbose=1,mode='min', save_best_only=True, save_weights_only=True)\n",
    "stop = EarlyStopping(monitor=\"val_loss\", patience=15, mode='min')\n",
    "reduce_lr = ReduceLROnPlateau(monitor=\"val_loss\", factor=0.125, patience=6, min_lr=1e-6, verbose=1, mode='min')"
   ]
  },
  {
   "cell_type": "code",
   "execution_count": 13,
   "id": "2f32d139-df31-4427-9408-e9963f50322b",
   "metadata": {},
   "outputs": [
    {
     "name": "stdout",
     "output_type": "stream",
     "text": [
      "Epoch 1/50\n",
      "749/750 [============================>.] - ETA: 0s - loss: 0.9029 - accuracy: 0.7641\n",
      "Epoch 00001: val_loss improved from inf to 0.77528, saving model to model-0.78.h5\n",
      "750/750 [==============================] - 30s 40ms/step - loss: 0.9026 - accuracy: 0.7641 - val_loss: 0.7753 - val_accuracy: 0.7736\n",
      "Epoch 2/50\n",
      "750/750 [==============================] - ETA: 0s - loss: 0.5997 - accuracy: 0.8238\n",
      "Epoch 00002: val_loss improved from 0.77528 to 0.67676, saving model to model-0.68.h5\n",
      "750/750 [==============================] - 25s 33ms/step - loss: 0.5997 - accuracy: 0.8238 - val_loss: 0.6768 - val_accuracy: 0.7989\n",
      "Epoch 3/50\n",
      "750/750 [==============================] - ETA: 0s - loss: 0.5300 - accuracy: 0.8427\n",
      "Epoch 00003: val_loss improved from 0.67676 to 0.61641, saving model to model-0.62.h5\n",
      "750/750 [==============================] - 26s 35ms/step - loss: 0.5300 - accuracy: 0.8427 - val_loss: 0.6164 - val_accuracy: 0.8156\n",
      "Epoch 4/50\n",
      "749/750 [============================>.] - ETA: 0s - loss: 0.4838 - accuracy: 0.8550\n",
      "Epoch 00004: val_loss improved from 0.61641 to 0.57731, saving model to model-0.58.h5\n",
      "750/750 [==============================] - 28s 37ms/step - loss: 0.4838 - accuracy: 0.8551 - val_loss: 0.5773 - val_accuracy: 0.8260\n",
      "Epoch 5/50\n",
      "749/750 [============================>.] - ETA: 0s - loss: 0.4469 - accuracy: 0.8656\n",
      "Epoch 00005: val_loss improved from 0.57731 to 0.54071, saving model to model-0.54.h5\n",
      "750/750 [==============================] - 29s 38ms/step - loss: 0.4469 - accuracy: 0.8656 - val_loss: 0.5407 - val_accuracy: 0.8374\n",
      "Epoch 6/50\n",
      "749/750 [============================>.] - ETA: 0s - loss: 0.4159 - accuracy: 0.8749\n",
      "Epoch 00006: val_loss improved from 0.54071 to 0.51370, saving model to model-0.51.h5\n",
      "750/750 [==============================] - 30s 40ms/step - loss: 0.4158 - accuracy: 0.8750 - val_loss: 0.5137 - val_accuracy: 0.8462\n",
      "Epoch 7/50\n",
      "749/750 [============================>.] - ETA: 0s - loss: 0.3891 - accuracy: 0.8831\n",
      "Epoch 00007: val_loss improved from 0.51370 to 0.48733, saving model to model-0.49.h5\n",
      "750/750 [==============================] - 34s 46ms/step - loss: 0.3891 - accuracy: 0.8831 - val_loss: 0.4873 - val_accuracy: 0.8538\n",
      "Epoch 8/50\n",
      "750/750 [==============================] - ETA: 0s - loss: 0.3663 - accuracy: 0.8894\n",
      "Epoch 00008: val_loss improved from 0.48733 to 0.46532, saving model to model-0.47.h5\n",
      "750/750 [==============================] - 32s 43ms/step - loss: 0.3663 - accuracy: 0.8894 - val_loss: 0.4653 - val_accuracy: 0.8596\n",
      "Epoch 9/50\n",
      "749/750 [============================>.] - ETA: 0s - loss: 0.3461 - accuracy: 0.8956\n",
      "Epoch 00009: val_loss improved from 0.46532 to 0.45259, saving model to model-0.45.h5\n",
      "750/750 [==============================] - 32s 42ms/step - loss: 0.3461 - accuracy: 0.8956 - val_loss: 0.4526 - val_accuracy: 0.8649\n",
      "Epoch 10/50\n",
      "749/750 [============================>.] - ETA: 0s - loss: 0.3291 - accuracy: 0.9005\n",
      "Epoch 00010: val_loss improved from 0.45259 to 0.44209, saving model to model-0.44.h5\n",
      "750/750 [==============================] - 32s 42ms/step - loss: 0.3291 - accuracy: 0.9005 - val_loss: 0.4421 - val_accuracy: 0.8674\n",
      "Epoch 11/50\n",
      "749/750 [============================>.] - ETA: 0s - loss: 0.3135 - accuracy: 0.9050\n",
      "Epoch 00011: val_loss improved from 0.44209 to 0.42923, saving model to model-0.43.h5\n",
      "750/750 [==============================] - 31s 41ms/step - loss: 0.3135 - accuracy: 0.9050 - val_loss: 0.4292 - val_accuracy: 0.8717\n",
      "Epoch 12/50\n",
      "749/750 [============================>.] - ETA: 0s - loss: 0.2996 - accuracy: 0.9088\n",
      "Epoch 00012: val_loss improved from 0.42923 to 0.42188, saving model to model-0.42.h5\n",
      "750/750 [==============================] - 32s 42ms/step - loss: 0.2996 - accuracy: 0.9088 - val_loss: 0.4219 - val_accuracy: 0.8734\n",
      "Epoch 13/50\n",
      "749/750 [============================>.] - ETA: 0s - loss: 0.2872 - accuracy: 0.9125\n",
      "Epoch 00013: val_loss improved from 0.42188 to 0.41646, saving model to model-0.42.h5\n",
      "750/750 [==============================] - 31s 42ms/step - loss: 0.2871 - accuracy: 0.9125 - val_loss: 0.4165 - val_accuracy: 0.8754\n",
      "Epoch 14/50\n",
      "750/750 [==============================] - ETA: 0s - loss: 0.2765 - accuracy: 0.9154\n",
      "Epoch 00014: val_loss improved from 0.41646 to 0.41104, saving model to model-0.41.h5\n",
      "750/750 [==============================] - 32s 42ms/step - loss: 0.2765 - accuracy: 0.9154 - val_loss: 0.4110 - val_accuracy: 0.8772\n",
      "Epoch 15/50\n",
      "750/750 [==============================] - ETA: 0s - loss: 0.2651 - accuracy: 0.9189\n",
      "Epoch 00015: val_loss improved from 0.41104 to 0.40910, saving model to model-0.41.h5\n",
      "750/750 [==============================] - 33s 44ms/step - loss: 0.2651 - accuracy: 0.9189 - val_loss: 0.4091 - val_accuracy: 0.8785\n",
      "Epoch 16/50\n",
      "750/750 [==============================] - ETA: 0s - loss: 0.2557 - accuracy: 0.9215\n",
      "Epoch 00016: val_loss improved from 0.40910 to 0.40735, saving model to model-0.41.h5\n",
      "750/750 [==============================] - 40s 54ms/step - loss: 0.2557 - accuracy: 0.9215 - val_loss: 0.4074 - val_accuracy: 0.8786\n",
      "Epoch 17/50\n",
      "749/750 [============================>.] - ETA: 0s - loss: 0.2464 - accuracy: 0.9243\n",
      "Epoch 00017: val_loss improved from 0.40735 to 0.40503, saving model to model-0.41.h5\n",
      "750/750 [==============================] - 36s 48ms/step - loss: 0.2465 - accuracy: 0.9242 - val_loss: 0.4050 - val_accuracy: 0.8808\n",
      "Epoch 18/50\n",
      "750/750 [==============================] - ETA: 0s - loss: 0.2380 - accuracy: 0.9267\n",
      "Epoch 00018: val_loss did not improve from 0.40503\n",
      "750/750 [==============================] - 35s 47ms/step - loss: 0.2380 - accuracy: 0.9267 - val_loss: 0.4058 - val_accuracy: 0.8803\n",
      "Epoch 19/50\n",
      "749/750 [============================>.] - ETA: 0s - loss: 0.2298 - accuracy: 0.9291\n",
      "Epoch 00019: val_loss improved from 0.40503 to 0.40191, saving model to model-0.40.h5\n",
      "750/750 [==============================] - 35s 46ms/step - loss: 0.2298 - accuracy: 0.9291 - val_loss: 0.4019 - val_accuracy: 0.8821\n",
      "Epoch 20/50\n",
      "750/750 [==============================] - ETA: 0s - loss: 0.2227 - accuracy: 0.9309\n",
      "Epoch 00020: val_loss did not improve from 0.40191\n",
      "750/750 [==============================] - 38s 50ms/step - loss: 0.2227 - accuracy: 0.9309 - val_loss: 0.4056 - val_accuracy: 0.8823\n",
      "Epoch 21/50\n",
      "750/750 [==============================] - ETA: 0s - loss: 0.2154 - accuracy: 0.9334\n",
      "Epoch 00021: val_loss did not improve from 0.40191\n",
      "750/750 [==============================] - 38s 51ms/step - loss: 0.2154 - accuracy: 0.9334 - val_loss: 0.4088 - val_accuracy: 0.8819\n",
      "Epoch 22/50\n",
      "750/750 [==============================] - ETA: 0s - loss: 0.2087 - accuracy: 0.9353\n",
      "Epoch 00022: val_loss did not improve from 0.40191\n",
      "750/750 [==============================] - 37s 49ms/step - loss: 0.2087 - accuracy: 0.9353 - val_loss: 0.4087 - val_accuracy: 0.8824\n",
      "Epoch 23/50\n",
      "750/750 [==============================] - ETA: 0s - loss: 0.2027 - accuracy: 0.9371\n",
      "Epoch 00023: val_loss did not improve from 0.40191\n",
      "750/750 [==============================] - 37s 49ms/step - loss: 0.2027 - accuracy: 0.9371 - val_loss: 0.4129 - val_accuracy: 0.8820\n",
      "Epoch 24/50\n",
      "750/750 [==============================] - ETA: 0s - loss: 0.1964 - accuracy: 0.9388\n",
      "Epoch 00024: val_loss did not improve from 0.40191\n",
      "750/750 [==============================] - 36s 48ms/step - loss: 0.1964 - accuracy: 0.9388 - val_loss: 0.4133 - val_accuracy: 0.8839\n",
      "Epoch 25/50\n",
      "749/750 [============================>.] - ETA: 0s - loss: 0.1908 - accuracy: 0.9404\n",
      "Epoch 00025: val_loss did not improve from 0.40191\n",
      "\n",
      "Epoch 00025: ReduceLROnPlateau reducing learning rate to 0.0001250000059371814.\n",
      "750/750 [==============================] - 38s 51ms/step - loss: 0.1908 - accuracy: 0.9404 - val_loss: 0.4181 - val_accuracy: 0.8826\n",
      "Epoch 26/50\n",
      "750/750 [==============================] - ETA: 0s - loss: 0.1671 - accuracy: 0.9490\n",
      "Epoch 00026: val_loss did not improve from 0.40191\n",
      "750/750 [==============================] - 39s 51ms/step - loss: 0.1671 - accuracy: 0.9490 - val_loss: 0.4130 - val_accuracy: 0.8852\n",
      "Epoch 27/50\n",
      "749/750 [============================>.] - ETA: 0s - loss: 0.1614 - accuracy: 0.9510\n",
      "Epoch 00027: val_loss did not improve from 0.40191\n",
      "750/750 [==============================] - 42s 56ms/step - loss: 0.1614 - accuracy: 0.9510 - val_loss: 0.4157 - val_accuracy: 0.8851\n",
      "Epoch 28/50\n",
      "750/750 [==============================] - ETA: 0s - loss: 0.1590 - accuracy: 0.9518\n",
      "Epoch 00028: val_loss did not improve from 0.40191\n",
      "750/750 [==============================] - 38s 51ms/step - loss: 0.1590 - accuracy: 0.9518 - val_loss: 0.4190 - val_accuracy: 0.8845\n",
      "Epoch 29/50\n",
      "750/750 [==============================] - ETA: 0s - loss: 0.1570 - accuracy: 0.9524\n",
      "Epoch 00029: val_loss did not improve from 0.40191\n",
      "750/750 [==============================] - 33s 44ms/step - loss: 0.1570 - accuracy: 0.9524 - val_loss: 0.4208 - val_accuracy: 0.8846\n",
      "Epoch 30/50\n",
      "750/750 [==============================] - ETA: 0s - loss: 0.1553 - accuracy: 0.9531\n",
      "Epoch 00030: val_loss did not improve from 0.40191\n",
      "750/750 [==============================] - 33s 44ms/step - loss: 0.1553 - accuracy: 0.9531 - val_loss: 0.4239 - val_accuracy: 0.8841\n",
      "Epoch 31/50\n",
      "749/750 [============================>.] - ETA: 0s - loss: 0.1538 - accuracy: 0.9535\n",
      "Epoch 00031: val_loss did not improve from 0.40191\n",
      "\n",
      "Epoch 00031: ReduceLROnPlateau reducing learning rate to 1.5625000742147677e-05.\n",
      "750/750 [==============================] - 33s 44ms/step - loss: 0.1538 - accuracy: 0.9535 - val_loss: 0.4257 - val_accuracy: 0.8843\n",
      "Epoch 32/50\n",
      "749/750 [============================>.] - ETA: 0s - loss: 0.1494 - accuracy: 0.9554\n",
      "Epoch 00032: val_loss did not improve from 0.40191\n",
      "750/750 [==============================] - 33s 44ms/step - loss: 0.1494 - accuracy: 0.9554 - val_loss: 0.4258 - val_accuracy: 0.8843\n",
      "Epoch 33/50\n",
      "749/750 [============================>.] - ETA: 0s - loss: 0.1489 - accuracy: 0.9555\n",
      "Epoch 00033: val_loss did not improve from 0.40191\n",
      "750/750 [==============================] - 35s 46ms/step - loss: 0.1489 - accuracy: 0.9555 - val_loss: 0.4265 - val_accuracy: 0.8841\n",
      "Epoch 34/50\n",
      "749/750 [============================>.] - ETA: 0s - loss: 0.1486 - accuracy: 0.9556\n",
      "Epoch 00034: val_loss did not improve from 0.40191\n",
      "750/750 [==============================] - 35s 47ms/step - loss: 0.1486 - accuracy: 0.9556 - val_loss: 0.4271 - val_accuracy: 0.8841\n"
     ]
    }
   ],
   "source": [
    "# Run training\n",
    "model.compile(optimizer='adam', loss='categorical_crossentropy', metrics = [\"accuracy\"])\n",
    "history = model.fit([encoder_input_data, decoder_input_data], decoder_target_data,\n",
    "          batch_size=32,\n",
    "          epochs=50,\n",
    "          validation_split=0.2,callbacks=[checkpoint,stop,reduce_lr])"
   ]
  },
  {
   "cell_type": "code",
   "execution_count": 14,
   "id": "2e17116f-e9b0-4a6e-bccd-99d5bfe7f272",
   "metadata": {},
   "outputs": [],
   "source": [
    "#Saving the mmodel\n",
    "model.save('model.h5')"
   ]
  },
  {
   "cell_type": "code",
   "execution_count": 15,
   "id": "876df29c-ed4a-4509-b1e4-b3272f957558",
   "metadata": {},
   "outputs": [],
   "source": [
    "model = tf.keras.models.load_model('model.h5')"
   ]
  },
  {
   "cell_type": "markdown",
   "id": "1651b1f9-8b39-4b44-a602-05f7cd699191",
   "metadata": {},
   "source": [
    "### Inferece Stage"
   ]
  },
  {
   "cell_type": "code",
   "execution_count": 16,
   "id": "285d6507-aba8-461d-a1e9-a74322a1aa65",
   "metadata": {},
   "outputs": [],
   "source": [
    "# Manually deriving the decoder states and decoder outputs so that we can reuse decoder outputs as inputs for next step\n",
    "encoder_model = tf.keras.Model(encoder_input, encoder_state)\n",
    "\n",
    "decoder_state_input_h = tf.keras.Input(shape=(256,))\n",
    "decoder_state_input_c = tf.keras.Input(shape=(256,))\n",
    "\n",
    "decoder_state_input = [decoder_state_input_h, decoder_state_input_c]\n",
    "decoder_output, state_h, state_c = decoder(decoder_input, initial_state=decoder_state_input)\n",
    "decoder_state = [state_h, state_c]\n",
    "decoder_output = decoder_dense(decoder_output)\n",
    "\n",
    "decoder_model = tf.keras.Model([decoder_input]+decoder_state_input,[decoder_output] + decoder_state)"
   ]
  },
  {
   "cell_type": "code",
   "execution_count": 13,
   "id": "227ebd57-62fd-4571-872d-d0b71f684d03",
   "metadata": {},
   "outputs": [],
   "source": [
    "# Mapping between integers or indexes and characters.\n",
    "reverse_input_char_index = dict((i, char) for char, i in input_token_index.items())\n",
    "reverse_target_char_index = dict((i, char) for char, i in target_token_index.items())"
   ]
  },
  {
   "cell_type": "code",
   "execution_count": 11,
   "id": "1e61c661-def9-4591-b8c3-0cff71888951",
   "metadata": {},
   "outputs": [],
   "source": [
    "#decoding the output sentence from tokenized data\n",
    "def decode_sequence(input_seq):\n",
    "    states_value = encoder_model.predict(input_seq)\n",
    "\n",
    "    #generating empty target sequence of length 1\n",
    "    target_seq = np.zeros((1,1,len(target_characters)))\n",
    "    #Adding the start character in the target sequence\n",
    "    target_seq[0,0,target_token_index[\"\\t\"]] =1.0\n",
    "\n",
    "    stop_con = False\n",
    "    decoded_sentence = \"\"\n",
    "\n",
    "    while not stop_con:\n",
    "        decoder_output, state_h, state_c = decoder_model.predict([target_seq] + states_value)\n",
    "        # Sample a token\n",
    "        sampled_token_index = np.argmax(decoder_output[0,-1,:])\n",
    "        sample_char = reverse_target_char_index[sampled_token_index]\n",
    "        decoded_sentence += sample_char\n",
    "\n",
    "    \n",
    "        # Exit condition: either hit max length\n",
    "        # or find stop character.\n",
    "        if sample_char == \"\\n\" or len(decoded_sentence) > max_sequence_length_target:\n",
    "            stop_con = True\n",
    "    \n",
    "        # Update the target sequence (of length 1).\n",
    "        target_seq = np.zeros((1,1,len(target_characters)))\n",
    "        target_seq[0, 0, sampled_token_index] = 1.0\n",
    "    \n",
    "        # Update states\n",
    "        states_value = [state_h, state_c]\n",
    "\n",
    "    return decoded_sentence"
   ]
  },
  {
   "cell_type": "code",
   "execution_count": 30,
   "id": "85a2d1a4-1a04-49ff-993a-f391f4391290",
   "metadata": {},
   "outputs": [
    {
     "name": "stdout",
     "output_type": "stream",
     "text": [
      "-\n",
      "Input sentence: Go.\n",
      "Decoded sentence: Allez !\n",
      "\n",
      "-\n",
      "Input sentence: Go.\n",
      "Decoded sentence: Allez !\n",
      "\n",
      "-\n",
      "Input sentence: Go.\n",
      "Decoded sentence: Allez !\n",
      "\n",
      "-\n",
      "Input sentence: Go.\n",
      "Decoded sentence: Allez !\n",
      "\n",
      "-\n",
      "Input sentence: Hi.\n",
      "Decoded sentence: Salut.\n",
      "\n",
      "-\n",
      "Input sentence: Hi.\n",
      "Decoded sentence: Salut.\n",
      "\n",
      "-\n",
      "Input sentence: Run!\n",
      "Decoded sentence: Fuyez !\n",
      "\n",
      "-\n",
      "Input sentence: Run!\n",
      "Decoded sentence: Fuyez !\n",
      "\n",
      "-\n",
      "Input sentence: Run!\n",
      "Decoded sentence: Fuyez !\n",
      "\n",
      "-\n",
      "Input sentence: Run!\n",
      "Decoded sentence: Fuyez !\n",
      "\n",
      "-\n",
      "Input sentence: Run!\n",
      "Decoded sentence: Fuyez !\n",
      "\n",
      "-\n",
      "Input sentence: Run!\n",
      "Decoded sentence: Fuyez !\n",
      "\n",
      "-\n",
      "Input sentence: Run!\n",
      "Decoded sentence: Fuyez !\n",
      "\n",
      "-\n",
      "Input sentence: Run!\n",
      "Decoded sentence: Fuyez !\n",
      "\n",
      "-\n",
      "Input sentence: Run.\n",
      "Decoded sentence: Fuyez !\n",
      "\n",
      "-\n",
      "Input sentence: Run.\n",
      "Decoded sentence: Fuyez !\n",
      "\n",
      "-\n",
      "Input sentence: Run.\n",
      "Decoded sentence: Fuyez !\n",
      "\n",
      "-\n",
      "Input sentence: Run.\n",
      "Decoded sentence: Fuyez !\n",
      "\n",
      "-\n",
      "Input sentence: Run.\n",
      "Decoded sentence: Fuyez !\n",
      "\n",
      "-\n",
      "Input sentence: Run.\n",
      "Decoded sentence: Fuyez !\n",
      "\n"
     ]
    }
   ],
   "source": [
    "for seq_index in range(20):\n",
    "    # Take one sequence (part of the training set)\n",
    "    # for trying out decoding.\n",
    "    input_seq = encoder_input_data[seq_index : seq_index + 1]\n",
    "    decoded_sentence = decode_sequence(input_seq)\n",
    "    print(\"-\")\n",
    "    print(\"Input sentence:\", input_texts[seq_index])\n",
    "    print(\"Decoded sentence:\", decoded_sentence)"
   ]
  },
  {
   "cell_type": "code",
   "execution_count": 142,
   "id": "eedb0830-e8c5-44f6-b87e-996e72b83c2d",
   "metadata": {},
   "outputs": [],
   "source": [
    "encoder_model.save('encoder_model.h5')\n",
    "decoder_model.save('decoder_model.h5')"
   ]
  },
  {
   "cell_type": "code",
   "execution_count": 17,
   "id": "89a8047a-9b55-4a4c-a60e-cd8df9ab7fe9",
   "metadata": {},
   "outputs": [
    {
     "name": "stdout",
     "output_type": "stream",
     "text": [
      "WARNING:tensorflow:No training configuration found in the save file, so the model was *not* compiled. Compile it manually.\n",
      "WARNING:tensorflow:No training configuration found in the save file, so the model was *not* compiled. Compile it manually.\n"
     ]
    }
   ],
   "source": [
    "encoder_model = tf.keras.models.load_model('encoder_model.h5')\n",
    "decoder_model = tf.keras.models.load_model('decoder_model.h5')"
   ]
  },
  {
   "cell_type": "code",
   "execution_count": 38,
   "id": "1e0887fc-b48d-4117-b3d0-c13ab9499458",
   "metadata": {},
   "outputs": [],
   "source": [
    "text = \"Go.\"\n",
    "input_data = np.zeros((1, max_sequence_length_input, len(input_characters)),dtype='float32')\n",
    "for t , char in enumerate(text):\n",
    "    input_data[0,t, input_token_index[char]] = 1.0\n",
    "input_data[0, t+1:, input_token_index[\" \"]] = 1.0"
   ]
  },
  {
   "cell_type": "code",
   "execution_count": 39,
   "id": "730cd75a-1ee5-4ce9-a74b-8590ebea8203",
   "metadata": {},
   "outputs": [
    {
     "name": "stdout",
     "output_type": "stream",
     "text": [
      "Allez !\n",
      "\n"
     ]
    }
   ],
   "source": [
    "print(decode_sequence(input_data[0:1]))"
   ]
  },
  {
   "cell_type": "code",
   "execution_count": 41,
   "id": "5356c6a1-7a29-48d0-9294-4fee29bf7cc1",
   "metadata": {},
   "outputs": [],
   "source": [
    "#prediction for any random text\n",
    "def eng_to_french(text):\n",
    "    input_data = np.zeros((1,max_sequence_length_input, len(input_characters)),dtype='float32')\n",
    "    for t, char in enumerate(text):\n",
    "        input_data[0,t,input_token_index[char]] = 1.0\n",
    "    input_data[0, t+1:, input_token_index[\" \"]] =1.0\n",
    "    return print(decode_sequence(input_data[0:1]))"
   ]
  },
  {
   "cell_type": "code",
   "execution_count": 49,
   "id": "7343b49e-74c7-4efd-8f72-8386edd0cd76",
   "metadata": {},
   "outputs": [
    {
     "name": "stdout",
     "output_type": "stream",
     "text": [
      "Aide-moi !\n",
      "\n"
     ]
    }
   ],
   "source": [
    "eng_to_french(\"Help me\")"
   ]
  },
  {
   "cell_type": "code",
   "execution_count": null,
   "id": "2773c3b5-7592-406f-89ee-c7d45c7e333a",
   "metadata": {},
   "outputs": [],
   "source": []
  }
 ],
 "metadata": {
  "kernelspec": {
   "display_name": "Python 3 (ipykernel)",
   "language": "python",
   "name": "python3"
  },
  "language_info": {
   "codemirror_mode": {
    "name": "ipython",
    "version": 3
   },
   "file_extension": ".py",
   "mimetype": "text/x-python",
   "name": "python",
   "nbconvert_exporter": "python",
   "pygments_lexer": "ipython3",
   "version": "3.8.18"
  }
 },
 "nbformat": 4,
 "nbformat_minor": 5
}
